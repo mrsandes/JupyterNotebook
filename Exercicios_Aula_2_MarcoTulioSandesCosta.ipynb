{
 "cells": [
  {
   "cell_type": "code",
   "execution_count": 3,
   "id": "ea94ccbf",
   "metadata": {},
   "outputs": [
    {
     "name": "stdout",
     "output_type": "stream",
     "text": [
      "85\n",
      "8.5\n",
      "125\n",
      "-98\n",
      "3\n"
     ]
    }
   ],
   "source": [
    "#Exercicio 1\n",
    "\n",
    "array = []\n",
    "\n",
    "for i in range(int(input(\"Digite a quantidade de valores da lista: \"))):\n",
    "    array.append(int(input(f\"Digite o valor da posicao {i + 1}: \")))\n",
    "    \n",
    "print(sum(array))\n",
    "print((sum(array) / len(array)))\n",
    "print(max(array))\n",
    "print(min(array))\n",
    "print(array.count(0))"
   ]
  },
  {
   "cell_type": "code",
   "execution_count": 6,
   "id": "af6b5ffc",
   "metadata": {},
   "outputs": [
    {
     "name": "stdout",
     "output_type": "stream",
     "text": [
      "['.NET', 'C', 'C#', 'C++', 'Java', 'Python', 'Ruby']\n",
      "[6, 1, 5, 2, 3, 0, 4]\n"
     ]
    }
   ],
   "source": [
    "#Exercicio 2\n",
    "\n",
    "array = []\n",
    "arrayCopy = []\n",
    "index = []\n",
    "\n",
    "array = input(\"Digite as palavras separadas por ' ': \").split(\" \")\n",
    "arrayCopy = array.copy()\n",
    "\n",
    "array.sort()\n",
    "\n",
    "for x in array:\n",
    "    index.append(arrayCopy.index(x))\n",
    "\n",
    "print(array)    \n",
    "print(index)\n",
    "    "
   ]
  },
  {
   "cell_type": "code",
   "execution_count": 14,
   "id": "af06c6c2",
   "metadata": {},
   "outputs": [
    {
     "name": "stdout",
     "output_type": "stream",
     "text": [
      "[3, 2, 1]\n",
      "[2, 1, 0]\n"
     ]
    }
   ],
   "source": [
    "#Exercicio 3\n",
    "\n",
    "array = []\n",
    "arrayCopy = []\n",
    "podium = []\n",
    "index = []\n",
    "\n",
    "array = input(\"Digite os valores separados por ' ': \").split(\" \")\n",
    "\n",
    "for i in range(len(array)):\n",
    "    array[i] = int(array[i])\n",
    "    \n",
    "arrayCopy = array.copy()\n",
    "\n",
    "while len(podium) < 3:\n",
    "    podium.append(max(array))\n",
    "    index.append(arrayCopy.index(max(array)))\n",
    "    array.remove(max(array))\n",
    "\n",
    "print(podium)\n",
    "print(index)"
   ]
  }
 ],
 "metadata": {
  "kernelspec": {
   "display_name": "Python 3 (ipykernel)",
   "language": "python",
   "name": "python3"
  },
  "language_info": {
   "codemirror_mode": {
    "name": "ipython",
    "version": 3
   },
   "file_extension": ".py",
   "mimetype": "text/x-python",
   "name": "python",
   "nbconvert_exporter": "python",
   "pygments_lexer": "ipython3",
   "version": "3.8.10"
  }
 },
 "nbformat": 4,
 "nbformat_minor": 5
}
