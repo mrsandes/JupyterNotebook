{
 "cells": [
  {
   "cell_type": "code",
   "execution_count": 3,
   "id": "ea94ccbf",
   "metadata": {},
   "outputs": [
    {
     "name": "stdout",
     "output_type": "stream",
     "text": [
      "85\n",
      "8.5\n",
      "125\n",
      "-98\n",
      "3\n"
     ]
    }
   ],
   "source": [
    "#Exercicio 1\n",
    "\n",
    "array = []\n",
    "\n",
    "for i in range(int(input(\"Digite a quantidade de valores da lista: \"))):\n",
    "    array.append(int(input(f\"Digite o valor da posicao {i + 1}: \")))\n",
    "    \n",
    "print(sum(array))\n",
    "print((sum(array) / len(array)))\n",
    "print(max(array))\n",
    "print(min(array))\n",
    "print(array.count(0))"
   ]
  },
  {
   "cell_type": "code",
   "execution_count": 6,
   "id": "af6b5ffc",
   "metadata": {},
   "outputs": [
    {
     "name": "stdout",
     "output_type": "stream",
     "text": [
      "['.NET', 'C', 'C#', 'C++', 'Java', 'Python', 'Ruby']\n",
      "[6, 1, 5, 2, 3, 0, 4]\n"
     ]
    }
   ],
   "source": [
    "#Exercicio 2\n",
    "\n",
    "array = []\n",
    "arrayCopy = []\n",
    "index = []\n",
    "\n",
    "array = input(\"Digite as palavras separadas por ' ': \").split(\" \")\n",
    "arrayCopy = array.copy()\n",
    "\n",
    "array.sort()\n",
    "\n",
    "for x in array:\n",
    "    index.append(arrayCopy.index(x))\n",
    "\n",
    "print(array)    \n",
    "print(index)\n",
    "    "
   ]
  },
  {
   "cell_type": "code",
   "execution_count": 14,
   "id": "af06c6c2",
   "metadata": {},
   "outputs": [
    {
     "name": "stdout",
     "output_type": "stream",
     "text": [
      "[3, 2, 1]\n",
      "[2, 1, 0]\n"
     ]
    }
   ],
   "source": [
    "#Exercicio 3\n",
    "\n",
    "array = []\n",
    "arrayCopy = []\n",
    "podium = []\n",
    "index = []\n",
    "\n",
    "array = input(\"Digite os valores separados por ' ': \").split(\" \")\n",
    "\n",
    "for i in range(len(array)):\n",
    "    array[i] = int(array[i])\n",
    "    \n",
    "arrayCopy = array.copy()\n",
    "\n",
    "while len(podium) < 3:\n",
    "    podium.append(max(array))\n",
    "    index.append(arrayCopy.index(max(array)))\n",
    "    array.remove(max(array))\n",
    "\n",
    "print(podium)\n",
    "print(index)"
   ]
  },
  {
   "cell_type": "code",
   "execution_count": 7,
   "id": "7b234c4b",
   "metadata": {},
   "outputs": [
    {
     "name": "stdout",
     "output_type": "stream",
     "text": [
      "a 1.0\n",
      "b 2.0\n",
      "c 3.0\n"
     ]
    }
   ],
   "source": [
    "#Exercicio 4\n",
    "\n",
    "def sort(names, prices):\n",
    "    for i in range(len(names)):\n",
    "        for j in range(i, len(names)):\n",
    "            if names[i] > names[j]:\n",
    "                aux = names[i]\n",
    "                names[i] = names[j]\n",
    "                names[j] = aux\n",
    "                \n",
    "                aux = prices[i]\n",
    "                prices[i] = prices[j]\n",
    "                prices[j] = aux\n",
    "                \n",
    "def printLists(names, prices):\n",
    "    for i in range(len(names)):\n",
    "        print(f\"{names[i]} {prices[i]}\")\n",
    "    \n",
    "products = []\n",
    "names = []\n",
    "prices = []\n",
    "\n",
    "for i in range(int(input(\"Digite a quantidade de valores da lista: \"))):\n",
    "    products.append(input(f\"Digite o nome do produto {i + 1}: \"))\n",
    "    products.append(float(input(f\"Digite o preco do produto {i + 1}: \")))\n",
    "    \n",
    "for i in range(0, len(products), 2):\n",
    "    names.append(products[i])\n",
    "    prices.append(products[i + 1])\n",
    "    \n",
    "sort(names, prices)\n",
    "printLists(names, prices)"
   ]
  },
  {
   "cell_type": "code",
   "execution_count": 10,
   "id": "9e978657",
   "metadata": {},
   "outputs": [
    {
     "name": "stdout",
     "output_type": "stream",
     "text": [
      "[1, 4, 9, 16, 25]\n"
     ]
    }
   ],
   "source": [
    "#Exercicio 5\n",
    "\n",
    "numbers = input(\"Digite os valores separados por ',': \").split(\",\")\n",
    "\n",
    "numbers = [int(x) for x in numbers]\n",
    "numbers = [x**2 for x in numbers]\n",
    "\n",
    "print(numbers)"
   ]
  },
  {
   "cell_type": "code",
   "execution_count": 55,
   "id": "b45e92d4",
   "metadata": {},
   "outputs": [
    {
     "name": "stdout",
     "output_type": "stream",
     "text": [
      "14\n"
     ]
    }
   ],
   "source": [
    "#Exercicio 6\n",
    "\n",
    "import numpy as np\n",
    "\n",
    "array = []\n",
    "\n",
    "for i in range(int(input(\"Digite o tamanho da matriz quadrada: \")) ** 2):\n",
    "    array.append(input(f\"Digite o valor {i + 1}: \"))\n",
    "    \n",
    "matrix = np.array(array)\n",
    "matrix = matrix.reshape(int(np.sqrt(len(array))), int(np.sqrt(len(array))))\n",
    "\n",
    "diagonal = [int(matrix[i][j]) for i in range(int(np.sqrt(len(array)))) for j in range(int(np.sqrt(len(array)))) if i == j]\n",
    "\n",
    "print(sum(diagonal))\n"
   ]
  },
  {
   "cell_type": "code",
   "execution_count": 5,
   "id": "0c673be5",
   "metadata": {},
   "outputs": [
    {
     "name": "stdout",
     "output_type": "stream",
     "text": [
      "1\n"
     ]
    }
   ],
   "source": [
    "#Exercicio 7\n",
    "\n",
    "def length(array):\n",
    "    n = int(input(\"Digite o tamanho minimo n:\"))\n",
    "    return sum(1 for x in array if len(x) > n)\n",
    "    \n",
    "\n",
    "def vogais(array):\n",
    "    return [sum(1 for char in x.lower() if char in \"aeiou\") for x in array]\n",
    "    \n",
    "def group_by_length():\n",
    "    "
   ]
  }
 ],
 "metadata": {
  "kernelspec": {
   "display_name": "Python 3 (ipykernel)",
   "language": "python",
   "name": "python3"
  },
  "language_info": {
   "codemirror_mode": {
    "name": "ipython",
    "version": 3
   },
   "file_extension": ".py",
   "mimetype": "text/x-python",
   "name": "python",
   "nbconvert_exporter": "python",
   "pygments_lexer": "ipython3",
   "version": "3.8.10"
  }
 },
 "nbformat": 4,
 "nbformat_minor": 5
}
